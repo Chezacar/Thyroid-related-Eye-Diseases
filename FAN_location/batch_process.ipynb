{
 "cells": [
  {
   "cell_type": "code",
   "execution_count": 1,
   "metadata": {},
   "outputs": [],
   "source": [
    "import cv2\n",
    "import numpy as np\n",
    "import matplotlib.pyplot as plt\n",
    "import face_alignment\n",
    "import os"
   ]
  },
  {
   "cell_type": "code",
   "execution_count": 2,
   "metadata": {},
   "outputs": [],
   "source": [
    "data_dir = '/DATA5_DB8/data/zdcheng/hyperthyreosis_eye/TAO_face/夏妍妍/外观'"
   ]
  },
  {
   "cell_type": "code",
   "execution_count": 3,
   "metadata": {},
   "outputs": [],
   "source": [
    "def pad(img,padding_ratio):\n",
    "    h,w,_ = img.shape\n",
    "    h,w = (int(h*padding_ratio),int(w*padding_ratio))\n",
    "    return cv2.copyMakeBorder(img,h,h,w,w,cv2.BORDER_CONSTANT)"
   ]
  },
  {
   "cell_type": "code",
   "execution_count": 4,
   "metadata": {},
   "outputs": [],
   "source": [
    "def process_dir(data_dir,padding_ratio,input_ratio):\n",
    "    \n",
    "    out_dir = data_dir + '_out/standard'\n",
    "    pad_out_dir = data_dir + '_out/pad'\n",
    "    imgs = os.listdir(data_dir)\n",
    "    imgs = [i for i in imgs if i.endswith('jpg') or i.endswith('JPG')]\n",
    "#     imgs = [os.path.join(data_path,i) for i in imgs if i.endswith('jpg') or i.endswith('JPG')]\n",
    "    fa = face_alignment.FaceAlignment(face_alignment.LandmarksType._2D, flip_input=False)\n",
    "    for i in imgs:\n",
    "        img_path = os.path.join(data_dir,i)\n",
    "        out_path = os.path.join(out_dir,i)\n",
    "        pad_out_path = os.path.join(pad_out_dir,i)\n",
    "        if os.path.exists(out_path) and os.path.exists(pad_out_path):\n",
    "            continue\n",
    "        \n",
    "        img = cv2.imread(img_path)\n",
    "        img_padded = pad(img,padding_ratio)\n",
    "        img_padded_RGB = cv2.cvtColor(img_padded, cv2.COLOR_BGR2RGB)\n",
    "        \n",
    "        padded_h,padded_w,_ = img_padded_RGB.shape\n",
    "        input_h,input_w = int(padded_h*input_ratio),int(padded_w*input_ratio)\n",
    "        input_RGB = cv2.resize(img_padded_RGB,(input_w,input_h))\n",
    "        \n",
    "        pred = fa.get_landmarks(input_RGB)[0]\n",
    "        \n",
    "        added_h,added_w = int(img.shape[0]*padding_ratio),int(img.shape[1]*padding_ratio)\n",
    "        pred_ori = pred/input_ratio\n",
    "        pred_ori[:,0] = pred_ori[:,0] - added_w\n",
    "        pred_ori[:,1] = pred_ori[:,1] - added_h\n",
    "        \n",
    "        pad_out = cv2.cvtColor(input_RGB,cv2.COLOR_RGB2BGR)\n",
    "        ori_out = img.copy()\n",
    "        \n",
    "        for p in pred:\n",
    "            cv2.circle(pad_out,(p[0],p[1]),6,(255,255,255),-1)\n",
    "        for p in pred_ori:\n",
    "            cv2.circle(ori_out,(p[0],p[1]),20,(255,255,255),-1)\n",
    "        if not os.path.exists(pad_out_path):\n",
    "            cv2.imwrite(pad_out_path,pad_out)\n",
    "        if not os.path.exists(out_path):\n",
    "            cv2.imwrite(out_path,ori_out)"
   ]
  },
  {
   "cell_type": "code",
   "execution_count": 5,
   "metadata": {},
   "outputs": [],
   "source": [
    "process_dir(data_dir,padding_ratio=1, input_ratio=0.15)"
   ]
  },
  {
   "cell_type": "code",
   "execution_count": 6,
   "metadata": {},
   "outputs": [
    {
     "data": {
      "text/plain": [
       "True"
      ]
     },
     "execution_count": 6,
     "metadata": {},
     "output_type": "execute_result"
    }
   ],
   "source": [
    "cv2.imwrite('/DB/rhome/zdcheng/tmp.JPG',np.zeros((3,3,3),dtype = 'uint8'))"
   ]
  },
  {
   "cell_type": "code",
   "execution_count": null,
   "metadata": {},
   "outputs": [],
   "source": []
  }
 ],
 "metadata": {
  "kernelspec": {
   "display_name": "Python 3",
   "language": "python",
   "name": "python3"
  },
  "language_info": {
   "codemirror_mode": {
    "name": "ipython",
    "version": 3
   },
   "file_extension": ".py",
   "mimetype": "text/x-python",
   "name": "python",
   "nbconvert_exporter": "python",
   "pygments_lexer": "ipython3",
   "version": "3.6.8"
  }
 },
 "nbformat": 4,
 "nbformat_minor": 2
}
